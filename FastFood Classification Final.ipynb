{
 "cells": [
  {
   "cell_type": "code",
   "execution_count": 1,
   "id": "4c309c15",
   "metadata": {},
   "outputs": [],
   "source": [
    "from transformers import SwinConfig, SwinModel"
   ]
  },
  {
   "cell_type": "code",
   "execution_count": null,
   "id": "c95bb827",
   "metadata": {},
   "outputs": [],
   "source": [
    "configuration = SwinConfig(num_labels = 10)"
   ]
  },
  {
   "cell_type": "code",
   "execution_count": null,
   "id": "5b9c22a8",
   "metadata": {},
   "outputs": [],
   "source": [
    "model = SwinModel(configuration)"
   ]
  },
  {
   "cell_type": "code",
   "execution_count": null,
   "id": "47d00e75",
   "metadata": {},
   "outputs": [],
   "source": [
    "from transformers import AutoImageProcessor, SwinForImageClassification\n",
    "import torch"
   ]
  },
  {
   "cell_type": "code",
   "execution_count": null,
   "id": "ff07bf97",
   "metadata": {},
   "outputs": [],
   "source": [
    "image_processor = AutoImageProcessor.from_pretrained(\"microsoft/swin-tiny-patch4-window7-224\")"
   ]
  },
  {
   "cell_type": "code",
   "execution_count": null,
   "id": "978c4d6a",
   "metadata": {},
   "outputs": [],
   "source": [
    "from datasets import load_dataset"
   ]
  },
  {
   "cell_type": "code",
   "execution_count": null,
   "id": "9e4e36ea",
   "metadata": {},
   "outputs": [],
   "source": [
    "data = load_dataset(\"C:/Users/xdany/Desktop/for project\", data_dir=\"Fast Food Classification V2\")"
   ]
  },
  {
   "cell_type": "code",
   "execution_count": null,
   "id": "77c55635",
   "metadata": {},
   "outputs": [],
   "source": [
    "data['train'][0]"
   ]
  },
  {
   "cell_type": "code",
   "execution_count": null,
   "id": "fb602f05",
   "metadata": {},
   "outputs": [],
   "source": [
    "def transforms(examples):\n",
    "    examples[\"pixel_values\"] = [image.convert(\"RGB\").resize((250,250)) for image in examples[\"image\"]]\n",
    "    return examples"
   ]
  },
  {
   "cell_type": "code",
   "execution_count": null,
   "id": "23788f96",
   "metadata": {
    "scrolled": false
   },
   "outputs": [],
   "source": [
    "data = data.map(transforms, remove_columns=[\"image\"], batched=True, batch_size=500)\n",
    "data['train'][0]"
   ]
  },
  {
   "cell_type": "code",
   "execution_count": null,
   "id": "1d413424",
   "metadata": {},
   "outputs": [],
   "source": [
    "import pickle"
   ]
  },
  {
   "cell_type": "code",
   "execution_count": null,
   "id": "8291f7a2",
   "metadata": {},
   "outputs": [],
   "source": [
    "with open('fastfoodData.pkl', 'wb') as file:\n",
    "    pickle.dump(data, file)"
   ]
  },
  {
   "cell_type": "code",
   "execution_count": null,
   "id": "1b48dd71",
   "metadata": {},
   "outputs": [],
   "source": [
    "with open('fastfoodData.pkl', 'rb') as file:\n",
    "    data = pickle.load(file)"
   ]
  },
  {
   "cell_type": "code",
   "execution_count": null,
   "id": "36e949e2",
   "metadata": {},
   "outputs": [],
   "source": [
    "def process_example(example):\n",
    "    inputs = image_processor(example['pixel_values'], return_tensors='pt')\n",
    "    inputs['labels'] = example['label']\n",
    "    return inputs"
   ]
  },
  {
   "cell_type": "code",
   "execution_count": null,
   "id": "4327526e",
   "metadata": {},
   "outputs": [],
   "source": [
    "process_example(data['train'][0])"
   ]
  },
  {
   "cell_type": "code",
   "execution_count": null,
   "id": "6e8ce6de",
   "metadata": {},
   "outputs": [],
   "source": [
    "def transform(example_batch):\n",
    "    # Take a list of PIL images and turn them to pixel values\n",
    "    inputs = image_processor([x for x in example_batch['pixel_values']], return_tensors='pt')\n",
    "\n",
    "    # Don't forget to include the labels!\n",
    "    inputs['labels'] = example_batch['label']\n",
    "    return inputs"
   ]
  },
  {
   "cell_type": "code",
   "execution_count": null,
   "id": "0212491c",
   "metadata": {},
   "outputs": [],
   "source": [
    "data = data.with_transform(transform)"
   ]
  },
  {
   "cell_type": "code",
   "execution_count": null,
   "id": "b3bb69ca",
   "metadata": {},
   "outputs": [],
   "source": [
    "import torch\n",
    "\n",
    "def collate_fn(batch):\n",
    "    return {\n",
    "        'pixel_values': torch.stack([x['pixel_values'] for x in batch]),\n",
    "        'labels': torch.tensor([x['labels'] for x in batch])\n",
    "    }"
   ]
  },
  {
   "cell_type": "code",
   "execution_count": null,
   "id": "6a61a7e7",
   "metadata": {},
   "outputs": [],
   "source": [
    "import numpy as np\n",
    "from datasets import load_metric\n",
    "\n",
    "metric = load_metric(\"accuracy\")\n",
    "def compute_metrics(p):\n",
    "    return metric.compute(predictions=np.argmax(p.predictions, axis=1), references=p.label_ids)"
   ]
  },
  {
   "cell_type": "code",
   "execution_count": null,
   "id": "60566342",
   "metadata": {},
   "outputs": [],
   "source": [
    "labels = data['train'].features['label'].names"
   ]
  },
  {
   "cell_type": "code",
   "execution_count": null,
   "id": "d711b6bc",
   "metadata": {},
   "outputs": [],
   "source": []
  },
  {
   "cell_type": "code",
   "execution_count": null,
   "id": "99a07bbb",
   "metadata": {
    "scrolled": true
   },
   "outputs": [],
   "source": [
    "model = SwinForImageClassification.from_pretrained(\"microsoft/swin-tiny-patch4-window7-224\",\n",
    "                                                    num_labels=len(labels),\n",
    "                                                    id2label={str(i): c for i, c in enumerate(labels)},\n",
    "                                                    label2id={c: str(i) for i, c in enumerate(labels)},\n",
    "                                                    ignore_mismatched_sizes=True\n",
    "                                                  )"
   ]
  },
  {
   "cell_type": "code",
   "execution_count": null,
   "id": "afdbef4d",
   "metadata": {},
   "outputs": [],
   "source": [
    "from transformers import TrainingArguments\n",
    "\n",
    "training_args = TrainingArguments(\n",
    "  output_dir=\"E:\\Swin Model FineTuned\\Model\",\n",
    "  per_device_train_batch_size=16,\n",
    "  evaluation_strategy=\"steps\",\n",
    "  num_train_epochs=3,\n",
    "  fp16=True,\n",
    "  save_steps=100,\n",
    "  eval_steps=100,\n",
    "  logging_steps=10,\n",
    "  learning_rate=2e-4,\n",
    "  save_total_limit=2,\n",
    "  remove_unused_columns=False,\n",
    "  push_to_hub=False,\n",
    "  report_to='tensorboard',\n",
    "  load_best_model_at_end=True,\n",
    ")"
   ]
  },
  {
   "cell_type": "code",
   "execution_count": null,
   "id": "2d1eb238",
   "metadata": {},
   "outputs": [],
   "source": [
    "from transformers import Trainer\n",
    "\n",
    "trainer = Trainer(\n",
    "    model=model,\n",
    "    args=training_args,\n",
    "    data_collator=collate_fn,\n",
    "    compute_metrics=compute_metrics,\n",
    "    train_dataset=data[\"train\"],\n",
    "    eval_dataset=data[\"validation\"],\n",
    "    tokenizer=image_processor,\n",
    ")"
   ]
  },
  {
   "cell_type": "code",
   "execution_count": null,
   "id": "45691378",
   "metadata": {},
   "outputs": [],
   "source": [
    "train_results = trainer.train()\n",
    "trainer.save_model()\n",
    "trainer.log_metrics(\"train\", train_results.metrics)\n",
    "trainer.save_metrics(\"train\", train_results.metrics)\n",
    "trainer.save_state()"
   ]
  },
  {
   "cell_type": "code",
   "execution_count": null,
   "id": "74230b30",
   "metadata": {},
   "outputs": [],
   "source": [
    "metrics = trainer.evaluate(data['test'])\n",
    "trainer.log_metrics(\"eval\", metrics)\n",
    "trainer.save_metrics(\"eval\", metrics)"
   ]
  },
  {
   "cell_type": "code",
   "execution_count": null,
   "id": "31160b5e",
   "metadata": {},
   "outputs": [],
   "source": [
    "trainer.save_model(\"E:/some model/some\")"
   ]
  },
  {
   "cell_type": "code",
   "execution_count": null,
   "id": "26cb3e35",
   "metadata": {},
   "outputs": [],
   "source": []
  }
 ],
 "metadata": {
  "kernelspec": {
   "display_name": "Python 3 (ipykernel)",
   "language": "python",
   "name": "python3"
  },
  "language_info": {
   "codemirror_mode": {
    "name": "ipython",
    "version": 3
   },
   "file_extension": ".py",
   "mimetype": "text/x-python",
   "name": "python",
   "nbconvert_exporter": "python",
   "pygments_lexer": "ipython3",
   "version": "3.9.13"
  }
 },
 "nbformat": 4,
 "nbformat_minor": 5
}
